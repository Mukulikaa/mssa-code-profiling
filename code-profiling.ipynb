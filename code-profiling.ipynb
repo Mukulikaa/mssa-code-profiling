{
 "cells": [
  {
   "cell_type": "markdown",
   "id": "5d35ee99-e435-4f72-b6d1-3a2d97f394ec",
   "metadata": {},
   "source": [
    "## Evaluation exercise for Google Summer of Code / Energy cost of scientific software 2023"
   ]
  },
  {
   "cell_type": "markdown",
   "id": "8e3ba11a-a509-46c7-aefe-ee69b92321c2",
   "metadata": {},
   "source": [
    "In this exercise we will look at the profiling of a package I have written in Python, that performs data preprocessing and principal component analysis of monsoon data. The profiling is done with the help of a open-source tool, Scalene, a high-precision CPU and memory profiler. "
   ]
  },
  {
   "cell_type": "code",
   "execution_count": 2,
   "id": "363a3fa5-b11a-4777-8d51-bd590ef671f6",
   "metadata": {},
   "outputs": [
    {
     "name": "stdout",
     "output_type": "stream",
     "text": [
      "Scalene extension successfully loaded. Note: Scalene currently only\n",
      "supports CPU+GPU profiling inside Jupyter notebooks. For full Scalene\n",
      "profiling, use the command line version.\n"
     ]
    }
   ],
   "source": [
    "from mssa import preprocessing as pre\n",
    "from mssa import mssa\n",
    "\n",
    "# Load Scalene\n",
    "%load_ext scalene"
   ]
  },
  {
   "cell_type": "markdown",
   "id": "00120c28-22af-459a-a945-4f48f3aea80d",
   "metadata": {},
   "source": [
    "**Profile of the data preprocessing:**"
   ]
  },
  {
   "cell_type": "code",
   "execution_count": 8,
   "id": "f20b0e98-9d17-4b55-b353-ea1d6be570b0",
   "metadata": {},
   "outputs": [
    {
     "data": {
      "text/html": [
       "\n",
       "        <iframe\n",
       "            width=\"100%\"\n",
       "            height=\"400\"\n",
       "            src=\"http://localhost:8183\"\n",
       "            frameborder=\"0\"\n",
       "            allowfullscreen\n",
       "            \n",
       "        ></iframe>\n",
       "        "
      ],
      "text/plain": [
       "<IPython.lib.display.IFrame at 0x7f05581e1340>"
      ]
     },
     "metadata": {},
     "output_type": "display_data"
    }
   ],
   "source": [
    "%scrun pre.read_data(\"test-data/TRMM-GPM_pr_Indian_region_1998.nc\")"
   ]
  },
  {
   "cell_type": "code",
   "execution_count": 10,
   "id": "6aff7f24-cfd2-438a-90a2-3081502ca12c",
   "metadata": {},
   "outputs": [
    {
     "data": {
      "text/html": [
       "\n",
       "        <iframe\n",
       "            width=\"100%\"\n",
       "            height=\"400\"\n",
       "            src=\"http://localhost:8185\"\n",
       "            frameborder=\"0\"\n",
       "            allowfullscreen\n",
       "            \n",
       "        ></iframe>\n",
       "        "
      ],
      "text/plain": [
       "<IPython.lib.display.IFrame at 0x7f0558199d00>"
      ]
     },
     "metadata": {},
     "output_type": "display_data"
    }
   ],
   "source": [
    "%scrun rainfall_data = pre.moving_mean(pre.stack(pre.read_data(\"test-data/TRMM-GPM_pr_Indian_region_1998.nc\")), 60, 'time')"
   ]
  },
  {
   "cell_type": "code",
   "execution_count": 14,
   "id": "ac6d931a-c125-40a6-b46d-bb87c44a5e93",
   "metadata": {},
   "outputs": [
    {
     "name": "stdout",
     "output_type": "stream",
     "text": [
      "            Memory usage: \u001b[32m■■■▀▀\u001b[0m (max: 30.196 MB, growth rate: 101%)            \n",
      "      mssa/preprocessing.py: % of time = 100.00% (1.776s) out of 1.776s.       \n",
      "       ╷       ╷       ╷       ╷        ╷       ╷               ╷       ╷      \n",
      " \u001b[1m      \u001b[0m│\u001b[1;34mTime\u001b[0m\u001b[1m  \u001b[0m\u001b[1m \u001b[0m│\u001b[1;34m––––––\u001b[0m\u001b[1m \u001b[0m│\u001b[1;34m––––––\u001b[0m\u001b[1m \u001b[0m│\u001b[1;32mMemory\u001b[0m\u001b[1m \u001b[0m\u001b[1m \u001b[0m│\u001b[1;32m––––––\u001b[0m\u001b[1m \u001b[0m│\u001b[1;32m–––––––––––\u001b[0m\u001b[1m   \u001b[0m\u001b[1m \u001b[0m│\u001b[1;33mCopy\u001b[0m\u001b[1m  \u001b[0m\u001b[1m \u001b[0m│\u001b[1m    \u001b[0m\u001b[1m \u001b[0m \n",
      " \u001b[1m \u001b[0m\u001b[1;2mLine\u001b[0m\u001b[1m \u001b[0m│\u001b[1;3;34mPython\u001b[0m\u001b[1m \u001b[0m│\u001b[1;3;34mnative\u001b[0m\u001b[1m \u001b[0m│\u001b[1;3;34msystem\u001b[0m\u001b[1m \u001b[0m│\u001b[1;3;32mPython\u001b[0m\u001b[1m \u001b[0m\u001b[1m \u001b[0m│\u001b[1;3;32mpeak\u001b[0m\u001b[1m  \u001b[0m\u001b[1m \u001b[0m│\u001b[1;3;32mtimeline\u001b[0m\u001b[1;32m/%\u001b[0m\u001b[1m    \u001b[0m\u001b[1m \u001b[0m│\u001b[1;3;33m(MB/s)\u001b[0m\u001b[1m \u001b[0m│\u001b[1mmss…\u001b[0m\u001b[1m \u001b[0m \n",
      "╺━━━━━━┿━━━━━━━┿━━━━━━━┿━━━━━━━┿━━━━━━━━┿━━━━━━━┿━━━━━━━━━━━━━━━┿━━━━━━━┿━━━━━╸\n",
      " \u001b[2m \u001b[0m\u001b[2m   1\u001b[0m\u001b[2m \u001b[0m│\u001b[34m    9%\u001b[0m\u001b[34m \u001b[0m│\u001b[34m    6%\u001b[0m\u001b[34m \u001b[0m│\u001b[34m   2% \u001b[0m\u001b[34m \u001b[0m│\u001b[32m 100%  \u001b[0m\u001b[32m \u001b[0m│\u001b[32m   10M\u001b[0m\u001b[32m \u001b[0m│\u001b[32m▄  33%        \u001b[0m\u001b[32m \u001b[0m│\u001b[33m      \u001b[0m\u001b[33m \u001b[0m│\u001b[35;40mimpo\u001b[0m  \n",
      " \u001b[2m \u001b[0m\u001b[2m   2\u001b[0m\u001b[2m \u001b[0m│\u001b[1;31m   54%\u001b[0m\u001b[34m \u001b[0m│\u001b[1;31m   23%\u001b[0m\u001b[34m \u001b[0m│\u001b[34m   6% \u001b[0m\u001b[34m \u001b[0m│\u001b[32m  98%  \u001b[0m\u001b[32m \u001b[0m│\u001b[32m   20M\u001b[0m\u001b[32m \u001b[0m│\u001b[1;31m■▀  67%\u001b[0m\u001b[32m       \u001b[0m\u001b[32m \u001b[0m│\u001b[33m   108\u001b[0m\u001b[33m \u001b[0m│\u001b[35;40mimpo\u001b[0m  \n",
      " \u001b[2m \u001b[0m\u001b[2m ...\u001b[0m\u001b[2m \u001b[0m│\u001b[34m      \u001b[0m\u001b[34m \u001b[0m│\u001b[34m      \u001b[0m\u001b[34m \u001b[0m│\u001b[34m      \u001b[0m\u001b[34m \u001b[0m│\u001b[32m       \u001b[0m\u001b[32m \u001b[0m│\u001b[32m      \u001b[0m\u001b[32m \u001b[0m│\u001b[32m              \u001b[0m\u001b[32m \u001b[0m│\u001b[33m      \u001b[0m\u001b[33m \u001b[0m│      \n",
      "       ╵       ╵       ╵       ╵        ╵       ╵               ╵       ╵      \n",
      "Top AVERAGE memory consumption, by line:\n",
      "\u001b[32m(1)     1:    10 MB\u001b[0m                                                             \n",
      "Top PEAK memory consumption, by line:\n",
      "\u001b[32m(1)     2:    20 MB\u001b[0m                                                             \n",
      "\u001b[32m(2)     1:    10 MB\u001b[0m                                                             \n"
     ]
    }
   ],
   "source": [
    "!scalene --cli --reduced-profile mssa/preprocessing.py"
   ]
  },
  {
   "cell_type": "code",
   "execution_count": null,
   "id": "3e12d475-e660-413d-b2a8-ddba214b55f9",
   "metadata": {},
   "outputs": [],
   "source": []
  },
  {
   "cell_type": "markdown",
   "id": "c47dbc7c-71ce-4760-b490-2e6c5ba122eb",
   "metadata": {},
   "source": [
    "**Profile of the principal component analysis:**"
   ]
  },
  {
   "cell_type": "code",
   "execution_count": 13,
   "id": "b26e1643-2ad6-4685-a90f-a14f0dce7a60",
   "metadata": {},
   "outputs": [
    {
     "data": {
      "text/html": [
       "\n",
       "        <iframe\n",
       "            width=\"100%\"\n",
       "            height=\"400\"\n",
       "            src=\"http://localhost:8187\"\n",
       "            frameborder=\"0\"\n",
       "            allowfullscreen\n",
       "            \n",
       "        ></iframe>\n",
       "        "
      ],
      "text/plain": [
       "<IPython.lib.display.IFrame at 0x7f0558199d60>"
      ]
     },
     "metadata": {},
     "output_type": "display_data"
    }
   ],
   "source": [
    "%scrun mssa.pca(rainfall_data.dropna('time'))"
   ]
  },
  {
   "cell_type": "code",
   "execution_count": 15,
   "id": "2ce54320-1d80-4ed3-9764-cc1453b1fbd3",
   "metadata": {},
   "outputs": [
    {
     "name": "stdout",
     "output_type": "stream",
     "text": [
      "            Memory usage: \u001b[32m▄■■▀▀\u001b[0m (max: 40.101 MB, growth rate: 100%)            \n",
      "           mssa/mssa.py: % of time = 100.00% (5.651s) out of 5.651s.           \n",
      "       ╷       ╷       ╷       ╷        ╷       ╷               ╷       ╷      \n",
      " \u001b[1m      \u001b[0m│\u001b[1;34mTime\u001b[0m\u001b[1m  \u001b[0m\u001b[1m \u001b[0m│\u001b[1;34m––––––\u001b[0m\u001b[1m \u001b[0m│\u001b[1;34m––––––\u001b[0m\u001b[1m \u001b[0m│\u001b[1;32mMemory\u001b[0m\u001b[1m \u001b[0m\u001b[1m \u001b[0m│\u001b[1;32m––––––\u001b[0m\u001b[1m \u001b[0m│\u001b[1;32m–––––––––––\u001b[0m\u001b[1m   \u001b[0m\u001b[1m \u001b[0m│\u001b[1;33mCopy\u001b[0m\u001b[1m  \u001b[0m\u001b[1m \u001b[0m│\u001b[1m    \u001b[0m\u001b[1m \u001b[0m \n",
      " \u001b[1m \u001b[0m\u001b[1;2mLine\u001b[0m\u001b[1m \u001b[0m│\u001b[1;3;34mPython\u001b[0m\u001b[1m \u001b[0m│\u001b[1;3;34mnative\u001b[0m\u001b[1m \u001b[0m│\u001b[1;3;34msystem\u001b[0m\u001b[1m \u001b[0m│\u001b[1;3;32mPython\u001b[0m\u001b[1m \u001b[0m\u001b[1m \u001b[0m│\u001b[1;3;32mpeak\u001b[0m\u001b[1m  \u001b[0m\u001b[1m \u001b[0m│\u001b[1;3;32mtimeline\u001b[0m\u001b[1;32m/%\u001b[0m\u001b[1m    \u001b[0m\u001b[1m \u001b[0m│\u001b[1;3;33m(MB/s)\u001b[0m\u001b[1m \u001b[0m│\u001b[1mmss…\u001b[0m\u001b[1m \u001b[0m \n",
      "╺━━━━━━┿━━━━━━━┿━━━━━━━┿━━━━━━━┿━━━━━━━━┿━━━━━━━┿━━━━━━━━━━━━━━━┿━━━━━━━┿━━━━━╸\n",
      " \u001b[2m \u001b[0m\u001b[2m   1\u001b[0m\u001b[2m \u001b[0m│\u001b[1;31m   60%\u001b[0m\u001b[34m \u001b[0m│\u001b[1;31m   26%\u001b[0m\u001b[34m \u001b[0m│\u001b[34m  14% \u001b[0m\u001b[34m \u001b[0m│\u001b[32m 100%  \u001b[0m\u001b[32m \u001b[0m│\u001b[32m   40M\u001b[0m\u001b[32m \u001b[0m│\u001b[1;31m▄■▀▀ 100%\u001b[0m\u001b[32m     \u001b[0m\u001b[32m \u001b[0m│\u001b[33m   128\u001b[0m\u001b[33m \u001b[0m│\u001b[35;40mfrom\u001b[0m  \n",
      " \u001b[2m \u001b[0m\u001b[2m ...\u001b[0m\u001b[2m \u001b[0m│\u001b[34m      \u001b[0m\u001b[34m \u001b[0m│\u001b[34m      \u001b[0m\u001b[34m \u001b[0m│\u001b[34m      \u001b[0m\u001b[34m \u001b[0m│\u001b[32m       \u001b[0m\u001b[32m \u001b[0m│\u001b[32m      \u001b[0m\u001b[32m \u001b[0m│\u001b[32m              \u001b[0m\u001b[32m \u001b[0m│\u001b[33m      \u001b[0m\u001b[33m \u001b[0m│      \n",
      "       ╵       ╵       ╵       ╵        ╵       ╵               ╵       ╵      \n",
      "Top PEAK memory consumption, by line:\n",
      "\u001b[32m(1)     1:    40 MB\u001b[0m                                                             \n"
     ]
    }
   ],
   "source": [
    "!scalene --cli --reduced-profile mssa/mssa.py"
   ]
  }
 ],
 "metadata": {
  "kernelspec": {
   "display_name": "Python 3 (ipykernel)",
   "language": "python",
   "name": "python3"
  },
  "language_info": {
   "codemirror_mode": {
    "name": "ipython",
    "version": 3
   },
   "file_extension": ".py",
   "mimetype": "text/x-python",
   "name": "python",
   "nbconvert_exporter": "python",
   "pygments_lexer": "ipython3",
   "version": "3.8.16"
  }
 },
 "nbformat": 4,
 "nbformat_minor": 5
}
